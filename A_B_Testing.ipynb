{
  "nbformat": 4,
  "nbformat_minor": 0,
  "metadata": {
    "colab": {
      "name": "A/B Testing.ipynb",
      "provenance": [],
      "collapsed_sections": [],
      "mount_file_id": "1TiUJaEE6qGteio_Utm4JwLKvrs6sZvQg",
      "authorship_tag": "ABX9TyMS5vmMLsS1MYzzl6+rJk2J",
      "include_colab_link": true
    },
    "kernelspec": {
      "name": "python3",
      "display_name": "Python 3"
    }
  },
  "cells": [
    {
      "cell_type": "markdown",
      "metadata": {
        "id": "view-in-github",
        "colab_type": "text"
      },
      "source": [
        "<a href=\"https://colab.research.google.com/github/KonstantinSV/Project-A-B-testing/blob/main/A_B_Testing.ipynb\" target=\"_parent\"><img src=\"https://colab.research.google.com/assets/colab-badge.svg\" alt=\"Open In Colab\"/></a>"
      ]
    },
    {
      "cell_type": "markdown",
      "metadata": {
        "id": "pmeqrhn2sfKj"
      },
      "source": [
        " **Проект: А/В тестирование**"
      ]
    },
    {
      "cell_type": "markdown",
      "metadata": {
        "id": "zbWaFTE-aSqB"
      },
      "source": [
        "Набор данных содержит результат A / B-теста, в котором двум группам, (контрольной и проверочной), были представлены старая и новая страницы сайта соответственно. \r\n",
        "\r\n",
        "Цель теста - определить, привела ли новая страница к значительному увеличению конверсий по сравнению со старой страницей."
      ]
    },
    {
      "cell_type": "markdown",
      "metadata": {
        "id": "EHcfiYSZs03j"
      },
      "source": [
        "Данные для обучения:\r\n",
        "\r\n",
        "Датасет на Kaggle - https://www.kaggle.com/zhangluyuan/ab-testing"
      ]
    },
    {
      "cell_type": "code",
      "metadata": {
        "id": "1VJc62oGi6db"
      },
      "source": [
        "import numpy as np\r\n",
        "import pandas as pd\r\n",
        "import matplotlib.pyplot as plt\r\n",
        "import scipy\r\n",
        "from scipy import stats"
      ],
      "execution_count": 1,
      "outputs": []
    },
    {
      "cell_type": "code",
      "metadata": {
        "colab": {
          "base_uri": "https://localhost:8080/",
          "height": 197
        },
        "id": "NL6Kc5Adq8Lv",
        "outputId": "7de6c3e3-0057-4c53-b4e3-cd5f3c10183e"
      },
      "source": [
        "# Чтение и просмотр данных\r\n",
        "df = pd.read_csv('/content/drive/MyDrive/Colab Notebooks/projects/A B Testing/ab_data.csv')\r\n",
        "df.head()"
      ],
      "execution_count": 2,
      "outputs": [
        {
          "output_type": "execute_result",
          "data": {
            "text/html": [
              "<div>\n",
              "<style scoped>\n",
              "    .dataframe tbody tr th:only-of-type {\n",
              "        vertical-align: middle;\n",
              "    }\n",
              "\n",
              "    .dataframe tbody tr th {\n",
              "        vertical-align: top;\n",
              "    }\n",
              "\n",
              "    .dataframe thead th {\n",
              "        text-align: right;\n",
              "    }\n",
              "</style>\n",
              "<table border=\"1\" class=\"dataframe\">\n",
              "  <thead>\n",
              "    <tr style=\"text-align: right;\">\n",
              "      <th></th>\n",
              "      <th>user_id</th>\n",
              "      <th>timestamp</th>\n",
              "      <th>group</th>\n",
              "      <th>landing_page</th>\n",
              "      <th>converted</th>\n",
              "    </tr>\n",
              "  </thead>\n",
              "  <tbody>\n",
              "    <tr>\n",
              "      <th>0</th>\n",
              "      <td>851104</td>\n",
              "      <td>2017-01-21 22:11:48.556739</td>\n",
              "      <td>control</td>\n",
              "      <td>old_page</td>\n",
              "      <td>0</td>\n",
              "    </tr>\n",
              "    <tr>\n",
              "      <th>1</th>\n",
              "      <td>804228</td>\n",
              "      <td>2017-01-12 08:01:45.159739</td>\n",
              "      <td>control</td>\n",
              "      <td>old_page</td>\n",
              "      <td>0</td>\n",
              "    </tr>\n",
              "    <tr>\n",
              "      <th>2</th>\n",
              "      <td>661590</td>\n",
              "      <td>2017-01-11 16:55:06.154213</td>\n",
              "      <td>treatment</td>\n",
              "      <td>new_page</td>\n",
              "      <td>0</td>\n",
              "    </tr>\n",
              "    <tr>\n",
              "      <th>3</th>\n",
              "      <td>853541</td>\n",
              "      <td>2017-01-08 18:28:03.143765</td>\n",
              "      <td>treatment</td>\n",
              "      <td>new_page</td>\n",
              "      <td>0</td>\n",
              "    </tr>\n",
              "    <tr>\n",
              "      <th>4</th>\n",
              "      <td>864975</td>\n",
              "      <td>2017-01-21 01:52:26.210827</td>\n",
              "      <td>control</td>\n",
              "      <td>old_page</td>\n",
              "      <td>1</td>\n",
              "    </tr>\n",
              "  </tbody>\n",
              "</table>\n",
              "</div>"
            ],
            "text/plain": [
              "   user_id                   timestamp      group landing_page  converted\n",
              "0   851104  2017-01-21 22:11:48.556739    control     old_page          0\n",
              "1   804228  2017-01-12 08:01:45.159739    control     old_page          0\n",
              "2   661590  2017-01-11 16:55:06.154213  treatment     new_page          0\n",
              "3   853541  2017-01-08 18:28:03.143765  treatment     new_page          0\n",
              "4   864975  2017-01-21 01:52:26.210827    control     old_page          1"
            ]
          },
          "metadata": {
            "tags": []
          },
          "execution_count": 2
        }
      ]
    },
    {
      "cell_type": "code",
      "metadata": {
        "colab": {
          "base_uri": "https://localhost:8080/",
          "height": 197
        },
        "id": "nHvAA1Emkhbz",
        "outputId": "6b9903cf-5f47-4de4-a178-b205e6ab0e7e"
      },
      "source": [
        "# Коичество пользователей из каждой группы и страницы которые они посмотрели. \r\n",
        "df.groupby(['group','landing_page']).count()"
      ],
      "execution_count": 3,
      "outputs": [
        {
          "output_type": "execute_result",
          "data": {
            "text/html": [
              "<div>\n",
              "<style scoped>\n",
              "    .dataframe tbody tr th:only-of-type {\n",
              "        vertical-align: middle;\n",
              "    }\n",
              "\n",
              "    .dataframe tbody tr th {\n",
              "        vertical-align: top;\n",
              "    }\n",
              "\n",
              "    .dataframe thead th {\n",
              "        text-align: right;\n",
              "    }\n",
              "</style>\n",
              "<table border=\"1\" class=\"dataframe\">\n",
              "  <thead>\n",
              "    <tr style=\"text-align: right;\">\n",
              "      <th></th>\n",
              "      <th></th>\n",
              "      <th>user_id</th>\n",
              "      <th>timestamp</th>\n",
              "      <th>converted</th>\n",
              "    </tr>\n",
              "    <tr>\n",
              "      <th>group</th>\n",
              "      <th>landing_page</th>\n",
              "      <th></th>\n",
              "      <th></th>\n",
              "      <th></th>\n",
              "    </tr>\n",
              "  </thead>\n",
              "  <tbody>\n",
              "    <tr>\n",
              "      <th rowspan=\"2\" valign=\"top\">control</th>\n",
              "      <th>new_page</th>\n",
              "      <td>1928</td>\n",
              "      <td>1928</td>\n",
              "      <td>1928</td>\n",
              "    </tr>\n",
              "    <tr>\n",
              "      <th>old_page</th>\n",
              "      <td>145274</td>\n",
              "      <td>145274</td>\n",
              "      <td>145274</td>\n",
              "    </tr>\n",
              "    <tr>\n",
              "      <th rowspan=\"2\" valign=\"top\">treatment</th>\n",
              "      <th>new_page</th>\n",
              "      <td>145311</td>\n",
              "      <td>145311</td>\n",
              "      <td>145311</td>\n",
              "    </tr>\n",
              "    <tr>\n",
              "      <th>old_page</th>\n",
              "      <td>1965</td>\n",
              "      <td>1965</td>\n",
              "      <td>1965</td>\n",
              "    </tr>\n",
              "  </tbody>\n",
              "</table>\n",
              "</div>"
            ],
            "text/plain": [
              "                        user_id  timestamp  converted\n",
              "group     landing_page                               \n",
              "control   new_page         1928       1928       1928\n",
              "          old_page       145274     145274     145274\n",
              "treatment new_page       145311     145311     145311\n",
              "          old_page         1965       1965       1965"
            ]
          },
          "metadata": {
            "tags": []
          },
          "execution_count": 3
        }
      ]
    },
    {
      "cell_type": "markdown",
      "metadata": {
        "id": "20O7lNBXrfpt"
      },
      "source": [
        "1928 пользователей из контрольной группы просмотрели новую страницу и 1965 пользователей из проверочной группы просмотрели старую страницу.\r\n",
        "Для чистоты эксперемента необходимо удалить пользователей из контрольной группы просмотревших новую страницу и пользователей из проверочной группы просмотревших старую страницу."
      ]
    },
    {
      "cell_type": "code",
      "metadata": {
        "colab": {
          "base_uri": "https://localhost:8080/",
          "height": 137
        },
        "id": "mNPq8fKQo9li",
        "outputId": "300a11d0-76e3-49b0-8853-2f7a96df864b"
      },
      "source": [
        "# Удаление пользователей\r\n",
        "df_cleaned = df.loc[(df['group'] == 'control') & (df['landing_page'] == 'old_page') | (df['group'] == 'treatment') & (df['landing_page'] == 'new_page')]\r\n",
        "df_cleaned.groupby(['group','landing_page']).count()"
      ],
      "execution_count": 4,
      "outputs": [
        {
          "output_type": "execute_result",
          "data": {
            "text/html": [
              "<div>\n",
              "<style scoped>\n",
              "    .dataframe tbody tr th:only-of-type {\n",
              "        vertical-align: middle;\n",
              "    }\n",
              "\n",
              "    .dataframe tbody tr th {\n",
              "        vertical-align: top;\n",
              "    }\n",
              "\n",
              "    .dataframe thead th {\n",
              "        text-align: right;\n",
              "    }\n",
              "</style>\n",
              "<table border=\"1\" class=\"dataframe\">\n",
              "  <thead>\n",
              "    <tr style=\"text-align: right;\">\n",
              "      <th></th>\n",
              "      <th></th>\n",
              "      <th>user_id</th>\n",
              "      <th>timestamp</th>\n",
              "      <th>converted</th>\n",
              "    </tr>\n",
              "    <tr>\n",
              "      <th>group</th>\n",
              "      <th>landing_page</th>\n",
              "      <th></th>\n",
              "      <th></th>\n",
              "      <th></th>\n",
              "    </tr>\n",
              "  </thead>\n",
              "  <tbody>\n",
              "    <tr>\n",
              "      <th>control</th>\n",
              "      <th>old_page</th>\n",
              "      <td>145274</td>\n",
              "      <td>145274</td>\n",
              "      <td>145274</td>\n",
              "    </tr>\n",
              "    <tr>\n",
              "      <th>treatment</th>\n",
              "      <th>new_page</th>\n",
              "      <td>145311</td>\n",
              "      <td>145311</td>\n",
              "      <td>145311</td>\n",
              "    </tr>\n",
              "  </tbody>\n",
              "</table>\n",
              "</div>"
            ],
            "text/plain": [
              "                        user_id  timestamp  converted\n",
              "group     landing_page                               \n",
              "control   old_page       145274     145274     145274\n",
              "treatment new_page       145311     145311     145311"
            ]
          },
          "metadata": {
            "tags": []
          },
          "execution_count": 4
        }
      ]
    },
    {
      "cell_type": "markdown",
      "metadata": {
        "id": "O8nqEMfdyoKA"
      },
      "source": [
        "Проверка на повторяющихся пользователей"
      ]
    },
    {
      "cell_type": "code",
      "metadata": {
        "colab": {
          "base_uri": "https://localhost:8080/"
        },
        "id": "8HdatNOvx8G5",
        "outputId": "a7630a25-ae99-4904-a8a6-12176531e0f9"
      },
      "source": [
        "df_cleaned['user_id'].duplicated().sum()"
      ],
      "execution_count": 5,
      "outputs": [
        {
          "output_type": "execute_result",
          "data": {
            "text/plain": [
              "1"
            ]
          },
          "metadata": {
            "tags": []
          },
          "execution_count": 5
        }
      ]
    },
    {
      "cell_type": "markdown",
      "metadata": {
        "id": "J-ZXSKucy1z3"
      },
      "source": [
        "Найден один повторяющийся пользователь. Определим его id"
      ]
    },
    {
      "cell_type": "code",
      "metadata": {
        "colab": {
          "base_uri": "https://localhost:8080/",
          "height": 107
        },
        "id": "5tahz_56yPjH",
        "outputId": "62127b40-72fb-44f5-e3c0-110899de9eea"
      },
      "source": [
        "# Пользователь из проверочной выборки с id - 773192 дважды просмотрел новую страницу и ни разу не кликнул.\r\n",
        "df_cleaned[df_cleaned.duplicated(['user_id'],keep=False)]"
      ],
      "execution_count": 6,
      "outputs": [
        {
          "output_type": "execute_result",
          "data": {
            "text/html": [
              "<div>\n",
              "<style scoped>\n",
              "    .dataframe tbody tr th:only-of-type {\n",
              "        vertical-align: middle;\n",
              "    }\n",
              "\n",
              "    .dataframe tbody tr th {\n",
              "        vertical-align: top;\n",
              "    }\n",
              "\n",
              "    .dataframe thead th {\n",
              "        text-align: right;\n",
              "    }\n",
              "</style>\n",
              "<table border=\"1\" class=\"dataframe\">\n",
              "  <thead>\n",
              "    <tr style=\"text-align: right;\">\n",
              "      <th></th>\n",
              "      <th>user_id</th>\n",
              "      <th>timestamp</th>\n",
              "      <th>group</th>\n",
              "      <th>landing_page</th>\n",
              "      <th>converted</th>\n",
              "    </tr>\n",
              "  </thead>\n",
              "  <tbody>\n",
              "    <tr>\n",
              "      <th>1899</th>\n",
              "      <td>773192</td>\n",
              "      <td>2017-01-09 05:37:58.781806</td>\n",
              "      <td>treatment</td>\n",
              "      <td>new_page</td>\n",
              "      <td>0</td>\n",
              "    </tr>\n",
              "    <tr>\n",
              "      <th>2893</th>\n",
              "      <td>773192</td>\n",
              "      <td>2017-01-14 02:55:59.590927</td>\n",
              "      <td>treatment</td>\n",
              "      <td>new_page</td>\n",
              "      <td>0</td>\n",
              "    </tr>\n",
              "  </tbody>\n",
              "</table>\n",
              "</div>"
            ],
            "text/plain": [
              "      user_id                   timestamp      group landing_page  converted\n",
              "1899   773192  2017-01-09 05:37:58.781806  treatment     new_page          0\n",
              "2893   773192  2017-01-14 02:55:59.590927  treatment     new_page          0"
            ]
          },
          "metadata": {
            "tags": []
          },
          "execution_count": 6
        }
      ]
    },
    {
      "cell_type": "code",
      "metadata": {
        "id": "ilDAmbVW1dJJ"
      },
      "source": [
        "# Для исключения учета повторений действий пользователей, оставим в DataFrame только первое действие пользователей. \r\n",
        "df_cleaned = df_cleaned.drop_duplicates(subset='user_id', keep=\"first\")"
      ],
      "execution_count": 7,
      "outputs": []
    },
    {
      "cell_type": "markdown",
      "metadata": {
        "id": "JSL-1GFBDkRf"
      },
      "source": [
        "**Анализ данных**"
      ]
    },
    {
      "cell_type": "code",
      "metadata": {
        "colab": {
          "base_uri": "https://localhost:8080/",
          "height": 414
        },
        "id": "TOlckt1TDhfY",
        "outputId": "285b7063-848b-411a-8b24-0105a01307f1"
      },
      "source": [
        "# Гистограмма  показывает пропорции конверсии в обоих группах\r\n",
        "groups = df_cleaned.groupby(['group','landing_page','converted']).size()\r\n",
        "groups.plot.bar()"
      ],
      "execution_count": 8,
      "outputs": [
        {
          "output_type": "execute_result",
          "data": {
            "text/plain": [
              "<matplotlib.axes._subplots.AxesSubplot at 0x7ffa3ef69ba8>"
            ]
          },
          "metadata": {
            "tags": []
          },
          "execution_count": 8
        },
        {
          "output_type": "display_data",
          "data": {
            "image/png": "[encoded data removed]",
            "text/plain": [
              "<Figure size 432x288 with 1 Axes>"
            ]
          },
          "metadata": {
            "tags": [],
            "needs_background": "light"
          }
        }
      ]
    },
    {
      "cell_type": "code",
      "metadata": {
        "colab": {
          "base_uri": "https://localhost:8080/",
          "height": 265
        },
        "id": "J3lOVHURLFCZ",
        "outputId": "de483453-78e5-410e-b592-2669c7e09ebc"
      },
      "source": [
        "# Круговая диаграмма показывает количество пользователей в каждой группе\r\n",
        "df_cleaned['landing_page'].value_counts().plot.pie()"
      ],
      "execution_count": 9,
      "outputs": [
        {
          "output_type": "execute_result",
          "data": {
            "text/plain": [
              "<matplotlib.axes._subplots.AxesSubplot at 0x7ffa3ea339b0>"
            ]
          },
          "metadata": {
            "tags": []
          },
          "execution_count": 9
        },
        {
          "output_type": "display_data",
          "data": {
            "image/png": "[encoded data removed]",
            "text/plain": [
              "<Figure size 432x288 with 1 Axes>"
            ]
          },
          "metadata": {
            "tags": []
          }
        }
      ]
    },
    {
      "cell_type": "markdown",
      "metadata": {
        "id": "d8Q8ndYTlXUC"
      },
      "source": [
        "**Подготовка данных**"
      ]
    },
    {
      "cell_type": "code",
      "metadata": {
        "id": "B02U2kxul3Qp"
      },
      "source": [
        "# 1) Разделение группы на два отдельныхх DataFrames \r\n",
        "a = df_cleaned[df_cleaned['group'] == 'control']\r\n",
        "b = df_cleaned[df_cleaned['group'] == 'treatment']\r\n",
        "# 2) Разделение каждый DataFrame еще на две группы (A-click, A-noclick, B-click, B-noclick) и посчитаем кол-во пользователей в каждой\r\n",
        "a_click = a.converted.sum()\r\n",
        "a_noclick = a.converted.size - a.converted.sum()\r\n",
        "b_click = b.converted.sum()\r\n",
        "b_noclick = b.converted.size - b.converted.sum()\r\n",
        "# 3) Для удобства сохраним данные всех групп в массив numpy\r\n",
        "total = np.array([[a_click, a_noclick], [b_click, b_noclick]])"
      ],
      "execution_count": 10,
      "outputs": []
    },
    {
      "cell_type": "code",
      "metadata": {
        "colab": {
          "base_uri": "https://localhost:8080/"
        },
        "id": "-p0VnWvDd8B_",
        "outputId": "81c0b15e-3284-44fc-a2fe-0f1bcf479586"
      },
      "source": [
        "# Определение p-value\r\n",
        "print(scipy.stats.chi2_contingency(total,correction=False)[1])"
      ],
      "execution_count": 11,
      "outputs": [
        {
          "output_type": "stream",
          "text": [
            "0.18988337448194853\n"
          ],
          "name": "stdout"
        }
      ]
    },
    {
      "cell_type": "markdown",
      "metadata": {
        "id": "hT5QzA34LMr_"
      },
      "source": [
        "Расчетное значение p-value составило 19%, что больше уровеня значимости (альфа), который равен 5%, то есть результат является статистически не значимым.\r\n",
        "\r\n",
        "**Вывод**: Конверсия между старой и новой веб-страницей не имеет значения."
      ]
    },
    {
      "cell_type": "code",
      "metadata": {
        "colab": {
          "base_uri": "https://localhost:8080/"
        },
        "id": "SS8wPNu_c6rg",
        "outputId": "e8f5106f-78f3-4c55-af91-0f23e86564b2"
      },
      "source": [
        "# Проверка сделанного вывода с помощью расчета CTR для контрольной и проверочной групп\r\n",
        "a_CTR = a_click / (a_click + a_noclick)\r\n",
        "b_CTR = b_click / (b_click + b_noclick)\r\n",
        "print(a_CTR, b_CTR)"
      ],
      "execution_count": 12,
      "outputs": [
        {
          "output_type": "stream",
          "text": [
            "0.1203863045004612 0.11880806551510564\n"
          ],
          "name": "stdout"
        }
      ]
    },
    {
      "cell_type": "markdown",
      "metadata": {
        "id": "Fo-eFh4sZlsL"
      },
      "source": [
        "Разница между CTR минимальна, что говорит о том, что вывод был сделан правильно."
      ]
    }
  ]
}